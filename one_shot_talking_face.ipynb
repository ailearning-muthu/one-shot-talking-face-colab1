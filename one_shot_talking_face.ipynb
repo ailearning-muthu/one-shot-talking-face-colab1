{
  "cells": [
    {
      "cell_type": "markdown",
      "metadata": {
        "id": "view-in-github"
      },
      "source": [
        "[![Open In Colab](https://colab.research.google.com/assets/colab-badge.svg)](https://colab.research.google.com/github/camenduru/one-shot-talking-face/blob/main/one_shot_talking_face.ipynb)"
      ]
    },
    {
      "cell_type": "code",
      "execution_count": null,
      "metadata": {},
      "outputs": [],
      "source": [
        "!git lfs install\n",
        "%cd /content\n",
        "!git clone https://huggingface.co/camenduru/pocketsphinx\n",
        "%cd  /content/pocketsphinx\n",
        "!sudo cmake --build build --target install\n",
        "\n",
        "%cd /content\n",
        "!git clone https://huggingface.co/camenduru/one-shot-talking-face\n",
        "%cd /content/one-shot-talking-face\n",
        "!pip install -r /content/one-shot-talking-face/requirements.txt\n",
        "!chmod 755 /content/one-shot-talking-face/OpenFace/FeatureExtraction\n",
        "!mkdir /content/out\n",
        "!apt install libgtk2.0-0 jq -y\n",
        "!pip install imageio-ffmpeg"
      ]
    },
    {
      "cell_type": "code",
      "execution_count": null,
      "metadata": {},
      "outputs": [],
      "source": [
        "wav_file = \"/content/audio.wav\"  #@param {type:\"string\"}\n",
        "image_file = \"/content/image.jpg\" #@param {type:\"string\"}\n",
        "\n",
        "import os\n",
        "os.environ['wav_file'] = wav_file\n",
        "os.environ['image_file'] = image_file\n",
        "\n",
        "!mkdir /content/train\n",
        "!cp $wav_file /content/train/audio.wav\n",
        "!cp $image_file /content/train/image.jpg\n",
        "\n",
        "!pocketsphinx -phone_align yes single /content/train/audio.wav $text | jq '[.w[]|{word: (.t | ascii_upcase | sub(\"<S>\"; \"sil\") | sub(\"<SIL>\"; \"sil\") | sub(\"\\\\(2\\\\)\"; \"\") | sub(\"\\\\(3\\\\)\"; \"\") | sub(\"\\\\(4\\\\)\"; \"\") | sub(\"\\\\[SPEECH\\\\]\"; \"SIL\") | sub(\"\\\\[NOISE\\\\]\"; \"SIL\")), phones: [.w[]|{ph: .t | sub(\"\\\\+SPN\\\\+\"; \"SIL\") | sub(\"\\\\+NSN\\\\+\"; \"SIL\"), bg: (.b*100)|floor, ed: (.b*100+.d*100)|floor}]}]' > /content/test.json\n",
        "%cd /content/one-shot-talking-face\n",
        "!python -B test_script.py --img_path /content/train/image.jpg --audio_path /content/train/audio.wav --phoneme_path /content/test.json --save_dir /content/out"
      ]
    },
    {
      "cell_type": "code",
      "execution_count": null,
      "metadata": {
        "colab": {
          "base_uri": "https://localhost:8080/",
          "height": 277
        },
        "id": "w6HpFRanl21S",
        "outputId": "e9a26401-1101-43bd-abd8-1b0830882edf"
      },
      "outputs": [],
      "source": [
        "from IPython.display import HTML\n",
        "from base64 import b64encode\n",
        " \n",
        "def show_video(video_path, video_width = 256):\n",
        "  video_file = open(video_path, \"r+b\").read()\n",
        "  video_url = f\"data:video/mp4;base64,{b64encode(video_file).decode()}\"\n",
        "  return HTML(f\"\"\"<video width={video_width} controls><source src=\"{video_url}\"></video>\"\"\")\n",
        " \n",
        "show_video(\"/content/out/image_audio.mp4\")"
      ]
    }
  ],
  "metadata": {
    "accelerator": "GPU",
    "colab": {
      "provenance": []
    },
    "gpuClass": "standard",
    "kernelspec": {
      "display_name": "Python 3",
      "name": "python3"
    },
    "language_info": {
      "name": "python"
    }
  },
  "nbformat": 4,
  "nbformat_minor": 0
}
