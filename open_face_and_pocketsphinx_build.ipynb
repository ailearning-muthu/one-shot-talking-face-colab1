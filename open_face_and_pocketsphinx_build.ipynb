{
  "cells": [
    {
      "cell_type": "markdown",
      "metadata": {
        "id": "view-in-github"
      },
      "source": [
        "[![Open In Colab](https://colab.research.google.com/assets/colab-badge.svg)](https://colab.research.google.com/github/camenduru/one-shot-talking-face/blob/main/open_face_and_pocketsphinx_build.ipynb)"
      ]
    },
    {
      "cell_type": "code",
      "execution_count": null,
      "metadata": {
        "id": "UEnfsNxdafQv"
      },
      "outputs": [],
      "source": [
        "!git clone https://github.com/TadasBaltrusaitis/OpenFace\n",
        "%cd /content/OpenFace\n",
        "!./install.sh"
      ]
    },
    {
      "cell_type": "code",
      "execution_count": null,
      "metadata": {},
      "outputs": [],
      "source": [
        "!git clone https://github.com/cmusphinx/pocketsphinx\n",
        "%cd  /content/pocketsphinx\n",
        "!cmake -S . -B build\n",
        "!cmake --build build\n",
        "!sudo cmake --build build --target install"
      ]
    }
  ],
  "metadata": {
    "accelerator": "GPU",
    "colab": {
      "provenance": []
    },
    "gpuClass": "standard",
    "kernelspec": {
      "display_name": "Python 3",
      "name": "python3"
    },
    "language_info": {
      "name": "python"
    }
  },
  "nbformat": 4,
  "nbformat_minor": 0
}
